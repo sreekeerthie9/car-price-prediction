{
 "cells": [
  {
   "cell_type": "code",
   "execution_count": 1,
   "id": "0319fd3d",
   "metadata": {},
   "outputs": [],
   "source": [
    "import pandas as pd\n",
    "import numpy as np\n",
    "from sklearn.metrics import mean_squared_error\n",
    "car = pd.read_csv(r'C:\\projects_sree\\dataset.zip')"
   ]
  },
  {
   "cell_type": "code",
   "execution_count": 2,
   "id": "59871dda",
   "metadata": {},
   "outputs": [
    {
     "data": {
      "text/html": [
       "<div>\n",
       "<style scoped>\n",
       "    .dataframe tbody tr th:only-of-type {\n",
       "        vertical-align: middle;\n",
       "    }\n",
       "\n",
       "    .dataframe tbody tr th {\n",
       "        vertical-align: top;\n",
       "    }\n",
       "\n",
       "    .dataframe thead th {\n",
       "        text-align: right;\n",
       "    }\n",
       "</style>\n",
       "<table border=\"1\" class=\"dataframe\">\n",
       "  <thead>\n",
       "    <tr style=\"text-align: right;\">\n",
       "      <th></th>\n",
       "      <th>model</th>\n",
       "      <th>year</th>\n",
       "      <th>price</th>\n",
       "      <th>transmission</th>\n",
       "      <th>mileage</th>\n",
       "      <th>fuelType</th>\n",
       "      <th>tax</th>\n",
       "      <th>mpg</th>\n",
       "      <th>engineSize</th>\n",
       "      <th>Manufacturer</th>\n",
       "    </tr>\n",
       "  </thead>\n",
       "  <tbody>\n",
       "    <tr>\n",
       "      <th>0</th>\n",
       "      <td>I10</td>\n",
       "      <td>2017</td>\n",
       "      <td>7495</td>\n",
       "      <td>Manual</td>\n",
       "      <td>11630</td>\n",
       "      <td>Petrol</td>\n",
       "      <td>145</td>\n",
       "      <td>60.1</td>\n",
       "      <td>1.0</td>\n",
       "      <td>hyundi</td>\n",
       "    </tr>\n",
       "    <tr>\n",
       "      <th>1</th>\n",
       "      <td>Polo</td>\n",
       "      <td>2017</td>\n",
       "      <td>10989</td>\n",
       "      <td>Manual</td>\n",
       "      <td>9200</td>\n",
       "      <td>Petrol</td>\n",
       "      <td>145</td>\n",
       "      <td>58.9</td>\n",
       "      <td>1.0</td>\n",
       "      <td>volkswagen</td>\n",
       "    </tr>\n",
       "    <tr>\n",
       "      <th>2</th>\n",
       "      <td>2 Series</td>\n",
       "      <td>2019</td>\n",
       "      <td>27990</td>\n",
       "      <td>Semi-Auto</td>\n",
       "      <td>1614</td>\n",
       "      <td>Diesel</td>\n",
       "      <td>145</td>\n",
       "      <td>49.6</td>\n",
       "      <td>2.0</td>\n",
       "      <td>BMW</td>\n",
       "    </tr>\n",
       "    <tr>\n",
       "      <th>3</th>\n",
       "      <td>Yeti Outdoor</td>\n",
       "      <td>2017</td>\n",
       "      <td>12495</td>\n",
       "      <td>Manual</td>\n",
       "      <td>30960</td>\n",
       "      <td>Diesel</td>\n",
       "      <td>150</td>\n",
       "      <td>62.8</td>\n",
       "      <td>2.0</td>\n",
       "      <td>skoda</td>\n",
       "    </tr>\n",
       "    <tr>\n",
       "      <th>4</th>\n",
       "      <td>Fiesta</td>\n",
       "      <td>2017</td>\n",
       "      <td>7999</td>\n",
       "      <td>Manual</td>\n",
       "      <td>19353</td>\n",
       "      <td>Petrol</td>\n",
       "      <td>125</td>\n",
       "      <td>54.3</td>\n",
       "      <td>1.2</td>\n",
       "      <td>ford</td>\n",
       "    </tr>\n",
       "  </tbody>\n",
       "</table>\n",
       "</div>"
      ],
      "text/plain": [
       "           model  year  price transmission  mileage fuelType  tax   mpg  \\\n",
       "0            I10  2017   7495       Manual    11630   Petrol  145  60.1   \n",
       "1           Polo  2017  10989       Manual     9200   Petrol  145  58.9   \n",
       "2       2 Series  2019  27990    Semi-Auto     1614   Diesel  145  49.6   \n",
       "3   Yeti Outdoor  2017  12495       Manual    30960   Diesel  150  62.8   \n",
       "4         Fiesta  2017   7999       Manual    19353   Petrol  125  54.3   \n",
       "\n",
       "   engineSize Manufacturer  \n",
       "0         1.0       hyundi  \n",
       "1         1.0   volkswagen  \n",
       "2         2.0          BMW  \n",
       "3         2.0        skoda  \n",
       "4         1.2         ford  "
      ]
     },
     "execution_count": 2,
     "metadata": {},
     "output_type": "execute_result"
    }
   ],
   "source": [
    "car.head()"
   ]
  },
  {
   "cell_type": "code",
   "execution_count": 3,
   "id": "d82d6869",
   "metadata": {},
   "outputs": [
    {
     "data": {
      "text/plain": [
       "(97712, 10)"
      ]
     },
     "execution_count": 3,
     "metadata": {},
     "output_type": "execute_result"
    }
   ],
   "source": [
    "car.shape\n"
   ]
  },
  {
   "cell_type": "code",
   "execution_count": 4,
   "id": "f50c88d8",
   "metadata": {},
   "outputs": [
    {
     "name": "stdout",
     "output_type": "stream",
     "text": [
      "<class 'pandas.core.frame.DataFrame'>\n",
      "RangeIndex: 97712 entries, 0 to 97711\n",
      "Data columns (total 10 columns):\n",
      " #   Column        Non-Null Count  Dtype  \n",
      "---  ------        --------------  -----  \n",
      " 0   model         97712 non-null  object \n",
      " 1   year          97712 non-null  int64  \n",
      " 2   price         97712 non-null  int64  \n",
      " 3   transmission  97712 non-null  object \n",
      " 4   mileage       97712 non-null  int64  \n",
      " 5   fuelType      97712 non-null  object \n",
      " 6   tax           97712 non-null  int64  \n",
      " 7   mpg           97712 non-null  float64\n",
      " 8   engineSize    97712 non-null  float64\n",
      " 9   Manufacturer  97712 non-null  object \n",
      "dtypes: float64(2), int64(4), object(4)\n",
      "memory usage: 7.5+ MB\n"
     ]
    }
   ],
   "source": [
    "car.info()"
   ]
  },
  {
   "cell_type": "code",
   "execution_count": 5,
   "id": "2d2d3c1d",
   "metadata": {},
   "outputs": [
    {
     "data": {
      "text/plain": [
       "array([2017, 2019, 2018, 2016, 2020, 2015, 2014, 2013, 2008, 2011, 2010,\n",
       "       2012, 2007, 2009, 2003, 1998, 2006, 2002, 2005, 2004, 2001, 2000,\n",
       "       1997, 1999, 1996, 2024, 1970], dtype=int64)"
      ]
     },
     "execution_count": 5,
     "metadata": {},
     "output_type": "execute_result"
    }
   ],
   "source": [
    "car['year'].unique()"
   ]
  },
  {
   "cell_type": "code",
   "execution_count": 6,
   "id": "a9388a3a",
   "metadata": {},
   "outputs": [
    {
     "data": {
      "text/plain": [
       "array([ 7495, 10989, 27990, ..., 23448,  4871, 18217], dtype=int64)"
      ]
     },
     "execution_count": 6,
     "metadata": {},
     "output_type": "execute_result"
    }
   ],
   "source": [
    "car['price'].unique()"
   ]
  },
  {
   "cell_type": "code",
   "execution_count": 7,
   "id": "dac5513a",
   "metadata": {},
   "outputs": [
    {
     "data": {
      "text/plain": [
       "array([11630,  9200,  1614, ..., 22635, 25570, 25372], dtype=int64)"
      ]
     },
     "execution_count": 7,
     "metadata": {},
     "output_type": "execute_result"
    }
   ],
   "source": [
    "car['mileage'].unique()"
   ]
  },
  {
   "cell_type": "code",
   "execution_count": 8,
   "id": "9195b775",
   "metadata": {},
   "outputs": [
    {
     "data": {
      "text/plain": [
       "array(['Petrol', 'Diesel', 'Hybrid', 'Other', 'Electric'], dtype=object)"
      ]
     },
     "execution_count": 8,
     "metadata": {},
     "output_type": "execute_result"
    }
   ],
   "source": [
    "car['fuelType'].unique()"
   ]
  },
  {
   "cell_type": "code",
   "execution_count": 9,
   "id": "e328b192",
   "metadata": {},
   "outputs": [
    {
     "data": {
      "text/plain": [
       "array([' I10', ' Polo', ' 2 Series', ' Yeti Outdoor', ' Fiesta', ' C-HR',\n",
       "       ' Kuga', ' Tiguan', ' A Class', ' 1 Series', ' Up', ' Golf',\n",
       "       ' Corsa', ' RAV4', ' GLA Class', ' Aygo', ' Q5', ' Karoq',\n",
       "       ' Scala', ' Auris', ' Tucson', ' A4', ' Viva', ' Kodiaq',\n",
       "       ' C Class', ' Mondeo', ' Citigo', ' Yaris', ' X4', ' Octavia',\n",
       "       ' Astra', ' Focus', ' 3 Series', ' GLC Class', ' Q3', ' B-MAX',\n",
       "       ' C-MAX', ' IX20', ' X5', ' T-Cross', ' Shuttle', ' Insignia',\n",
       "       ' Zafira', ' A3', ' A5', ' SL CLASS', ' EcoSport', ' X1', ' Fabia',\n",
       "       ' Golf SV', ' Verso', ' Yeti', ' Mokka X', ' Antara', ' E Class',\n",
       "       ' 4 Series', ' Superb', ' 5 Series', ' 8 Series', ' B Class',\n",
       "       ' Ka+', ' X2', ' GLE Class', ' A6', ' Mokka', ' Passat', ' Kamiq',\n",
       "       ' Adam', ' Q7', ' Tiguan Allspace', ' X3', ' A1', ' Grandland X',\n",
       "       ' Meriva', ' Tourneo Connect', ' Arteon', ' TT', ' GLS Class',\n",
       "       ' Santa Fe', ' I30', ' S Class', ' Ioniq', ' Edge', ' S-MAX',\n",
       "       ' SLK', ' Crossland X', ' 7 Series', ' T-Roc', ' Q2', ' CL Class',\n",
       "       ' CLA Class', ' 6 Series', ' V Class', ' Scirocco', ' i3',\n",
       "       ' Grand C-MAX', ' SQ5', ' X7', ' Corolla', ' A7', ' Touareg',\n",
       "       ' CLS Class', ' I20', ' M Class', ' Prius', ' KA', ' GT86',\n",
       "       ' Hilux', ' Galaxy', ' M4', ' I800', ' Kona', ' Touran',\n",
       "       ' Grand Tourneo Connect', ' Caravelle', ' Combo Life', ' GL Class',\n",
       "       ' Avensis', ' SQ7', ' GLB Class', ' RS3', ' IX35', ' GTC',\n",
       "       ' Land Cruiser', ' X6', ' RS5', ' Puma', ' CC', ' I40', ' i8',\n",
       "       ' Eos', ' Rapid', ' Amarok', ' Beetle', ' Supra', ' California',\n",
       "       ' A8', ' Z4', ' Q8', ' S4', ' Sharan', ' Mustang', ' M3', ' RS4',\n",
       "       ' RS6', ' Fox', ' Cascada', ' M5', ' Caddy Maxi Life', ' Vivaro',\n",
       "       ' X-CLASS', ' M6', ' Kadjar', ' Caddy Maxi', ' Fusion',\n",
       "       ' Tourneo Custom', ' Tigra', ' M2', ' Agila', ' Zafira Tourer',\n",
       "       ' Vectra', ' Ranger', ' Getz', ' R8', ' Roomster', ' Jetta',\n",
       "       ' Veloster', ' S5', ' S3', ' Z3', ' Ampera', ' Caddy Life',\n",
       "       ' Urban Cruiser', ' S8', ' Verso-S', ' IQ', ' CLK',\n",
       "       ' PROACE VERSO', ' R Class', ' G Class', '180', ' Camry', ' Caddy',\n",
       "       ' Terracan', ' Streetka', '200', ' Escort', 'E Class',\n",
       "       ' Transit Tourneo', ' CLC Class', '230', ' A2', ' Amica', ' RS7',\n",
       "       ' Accent', '220'], dtype=object)"
      ]
     },
     "execution_count": 9,
     "metadata": {},
     "output_type": "execute_result"
    }
   ],
   "source": [
    "car['model'].unique()"
   ]
  },
  {
   "cell_type": "code",
   "execution_count": 10,
   "id": "56eeeb58",
   "metadata": {},
   "outputs": [],
   "source": [
    "backup=car.copy()"
   ]
  },
  {
   "cell_type": "code",
   "execution_count": 11,
   "id": "706cbe48",
   "metadata": {},
   "outputs": [
    {
     "data": {
      "text/html": [
       "<div>\n",
       "<style scoped>\n",
       "    .dataframe tbody tr th:only-of-type {\n",
       "        vertical-align: middle;\n",
       "    }\n",
       "\n",
       "    .dataframe tbody tr th {\n",
       "        vertical-align: top;\n",
       "    }\n",
       "\n",
       "    .dataframe thead th {\n",
       "        text-align: right;\n",
       "    }\n",
       "</style>\n",
       "<table border=\"1\" class=\"dataframe\">\n",
       "  <thead>\n",
       "    <tr style=\"text-align: right;\">\n",
       "      <th></th>\n",
       "      <th>year</th>\n",
       "      <th>price</th>\n",
       "      <th>mileage</th>\n",
       "      <th>tax</th>\n",
       "      <th>mpg</th>\n",
       "      <th>engineSize</th>\n",
       "    </tr>\n",
       "  </thead>\n",
       "  <tbody>\n",
       "    <tr>\n",
       "      <th>count</th>\n",
       "      <td>97712.000000</td>\n",
       "      <td>97712.000000</td>\n",
       "      <td>97712.000000</td>\n",
       "      <td>97712.000000</td>\n",
       "      <td>97712.000000</td>\n",
       "      <td>97712.000000</td>\n",
       "    </tr>\n",
       "    <tr>\n",
       "      <th>mean</th>\n",
       "      <td>2017.066502</td>\n",
       "      <td>16773.487555</td>\n",
       "      <td>23219.475499</td>\n",
       "      <td>120.142408</td>\n",
       "      <td>55.205623</td>\n",
       "      <td>1.664913</td>\n",
       "    </tr>\n",
       "    <tr>\n",
       "      <th>std</th>\n",
       "      <td>2.118661</td>\n",
       "      <td>9868.552222</td>\n",
       "      <td>21060.882301</td>\n",
       "      <td>63.357250</td>\n",
       "      <td>16.181659</td>\n",
       "      <td>0.558574</td>\n",
       "    </tr>\n",
       "    <tr>\n",
       "      <th>min</th>\n",
       "      <td>1970.000000</td>\n",
       "      <td>450.000000</td>\n",
       "      <td>1.000000</td>\n",
       "      <td>0.000000</td>\n",
       "      <td>0.300000</td>\n",
       "      <td>0.000000</td>\n",
       "    </tr>\n",
       "    <tr>\n",
       "      <th>25%</th>\n",
       "      <td>2016.000000</td>\n",
       "      <td>9999.000000</td>\n",
       "      <td>7673.000000</td>\n",
       "      <td>125.000000</td>\n",
       "      <td>47.100000</td>\n",
       "      <td>1.200000</td>\n",
       "    </tr>\n",
       "    <tr>\n",
       "      <th>50%</th>\n",
       "      <td>2017.000000</td>\n",
       "      <td>14470.000000</td>\n",
       "      <td>17682.500000</td>\n",
       "      <td>145.000000</td>\n",
       "      <td>54.300000</td>\n",
       "      <td>1.600000</td>\n",
       "    </tr>\n",
       "    <tr>\n",
       "      <th>75%</th>\n",
       "      <td>2019.000000</td>\n",
       "      <td>20750.000000</td>\n",
       "      <td>32500.000000</td>\n",
       "      <td>145.000000</td>\n",
       "      <td>62.800000</td>\n",
       "      <td>2.000000</td>\n",
       "    </tr>\n",
       "    <tr>\n",
       "      <th>max</th>\n",
       "      <td>2024.000000</td>\n",
       "      <td>159999.000000</td>\n",
       "      <td>323000.000000</td>\n",
       "      <td>580.000000</td>\n",
       "      <td>470.800000</td>\n",
       "      <td>6.600000</td>\n",
       "    </tr>\n",
       "  </tbody>\n",
       "</table>\n",
       "</div>"
      ],
      "text/plain": [
       "               year          price        mileage           tax           mpg  \\\n",
       "count  97712.000000   97712.000000   97712.000000  97712.000000  97712.000000   \n",
       "mean    2017.066502   16773.487555   23219.475499    120.142408     55.205623   \n",
       "std        2.118661    9868.552222   21060.882301     63.357250     16.181659   \n",
       "min     1970.000000     450.000000       1.000000      0.000000      0.300000   \n",
       "25%     2016.000000    9999.000000    7673.000000    125.000000     47.100000   \n",
       "50%     2017.000000   14470.000000   17682.500000    145.000000     54.300000   \n",
       "75%     2019.000000   20750.000000   32500.000000    145.000000     62.800000   \n",
       "max     2024.000000  159999.000000  323000.000000    580.000000    470.800000   \n",
       "\n",
       "         engineSize  \n",
       "count  97712.000000  \n",
       "mean       1.664913  \n",
       "std        0.558574  \n",
       "min        0.000000  \n",
       "25%        1.200000  \n",
       "50%        1.600000  \n",
       "75%        2.000000  \n",
       "max        6.600000  "
      ]
     },
     "execution_count": 11,
     "metadata": {},
     "output_type": "execute_result"
    }
   ],
   "source": [
    "car.describe()"
   ]
  },
  {
   "cell_type": "markdown",
   "id": "4c91d0da",
   "metadata": {},
   "source": [
    "Model"
   ]
  },
  {
   "cell_type": "code",
   "execution_count": 12,
   "id": "718ad6c4",
   "metadata": {},
   "outputs": [],
   "source": [
    "x = car.drop(['price','tax'],axis=1)\n",
    "y = car['price']"
   ]
  },
  {
   "cell_type": "code",
   "execution_count": 13,
   "id": "d31a6c2b",
   "metadata": {},
   "outputs": [
    {
     "data": {
      "text/plain": [
       "(Index(['model', 'year', 'transmission', 'mileage', 'fuelType', 'mpg',\n",
       "        'engineSize', 'Manufacturer'],\n",
       "       dtype='object'),\n",
       " 'price')"
      ]
     },
     "execution_count": 13,
     "metadata": {},
     "output_type": "execute_result"
    }
   ],
   "source": [
    "x.columns, y.name"
   ]
  },
  {
   "cell_type": "code",
   "execution_count": 14,
   "id": "11344f2b",
   "metadata": {},
   "outputs": [],
   "source": [
    "from sklearn.model_selection import train_test_split\n",
    "x_train,x_test,y_train,y_test=train_test_split(x,y,test_size=0.2)"
   ]
  },
  {
   "cell_type": "code",
   "execution_count": 15,
   "id": "b1c3a58a",
   "metadata": {},
   "outputs": [],
   "source": [
    "from sklearn.linear_model import LinearRegression\n",
    "from sklearn.metrics import r2_score\n",
    "from sklearn.preprocessing import OneHotEncoder\n",
    "from sklearn.compose import make_column_transformer\n",
    "from sklearn.pipeline import make_pipeline"
   ]
  },
  {
   "cell_type": "code",
   "execution_count": 16,
   "id": "8beb4902",
   "metadata": {},
   "outputs": [
    {
     "name": "stdout",
     "output_type": "stream",
     "text": [
      "<class 'pandas.core.frame.DataFrame'>\n",
      "RangeIndex: 97712 entries, 0 to 97711\n",
      "Data columns (total 10 columns):\n",
      " #   Column        Non-Null Count  Dtype  \n",
      "---  ------        --------------  -----  \n",
      " 0   model         97712 non-null  object \n",
      " 1   year          97712 non-null  int64  \n",
      " 2   price         97712 non-null  int64  \n",
      " 3   transmission  97712 non-null  object \n",
      " 4   mileage       97712 non-null  int64  \n",
      " 5   fuelType      97712 non-null  object \n",
      " 6   tax           97712 non-null  int64  \n",
      " 7   mpg           97712 non-null  float64\n",
      " 8   engineSize    97712 non-null  float64\n",
      " 9   Manufacturer  97712 non-null  object \n",
      "dtypes: float64(2), int64(4), object(4)\n",
      "memory usage: 7.5+ MB\n"
     ]
    }
   ],
   "source": [
    "car.info()"
   ]
  },
  {
   "cell_type": "code",
   "execution_count": 17,
   "id": "0402ad85",
   "metadata": {},
   "outputs": [
    {
     "data": {
      "text/html": [
       "<style>#sk-container-id-1 {color: black;}#sk-container-id-1 pre{padding: 0;}#sk-container-id-1 div.sk-toggleable {background-color: white;}#sk-container-id-1 label.sk-toggleable__label {cursor: pointer;display: block;width: 100%;margin-bottom: 0;padding: 0.3em;box-sizing: border-box;text-align: center;}#sk-container-id-1 label.sk-toggleable__label-arrow:before {content: \"▸\";float: left;margin-right: 0.25em;color: #696969;}#sk-container-id-1 label.sk-toggleable__label-arrow:hover:before {color: black;}#sk-container-id-1 div.sk-estimator:hover label.sk-toggleable__label-arrow:before {color: black;}#sk-container-id-1 div.sk-toggleable__content {max-height: 0;max-width: 0;overflow: hidden;text-align: left;background-color: #f0f8ff;}#sk-container-id-1 div.sk-toggleable__content pre {margin: 0.2em;color: black;border-radius: 0.25em;background-color: #f0f8ff;}#sk-container-id-1 input.sk-toggleable__control:checked~div.sk-toggleable__content {max-height: 200px;max-width: 100%;overflow: auto;}#sk-container-id-1 input.sk-toggleable__control:checked~label.sk-toggleable__label-arrow:before {content: \"▾\";}#sk-container-id-1 div.sk-estimator input.sk-toggleable__control:checked~label.sk-toggleable__label {background-color: #d4ebff;}#sk-container-id-1 div.sk-label input.sk-toggleable__control:checked~label.sk-toggleable__label {background-color: #d4ebff;}#sk-container-id-1 input.sk-hidden--visually {border: 0;clip: rect(1px 1px 1px 1px);clip: rect(1px, 1px, 1px, 1px);height: 1px;margin: -1px;overflow: hidden;padding: 0;position: absolute;width: 1px;}#sk-container-id-1 div.sk-estimator {font-family: monospace;background-color: #f0f8ff;border: 1px dotted black;border-radius: 0.25em;box-sizing: border-box;margin-bottom: 0.5em;}#sk-container-id-1 div.sk-estimator:hover {background-color: #d4ebff;}#sk-container-id-1 div.sk-parallel-item::after {content: \"\";width: 100%;border-bottom: 1px solid gray;flex-grow: 1;}#sk-container-id-1 div.sk-label:hover label.sk-toggleable__label {background-color: #d4ebff;}#sk-container-id-1 div.sk-serial::before {content: \"\";position: absolute;border-left: 1px solid gray;box-sizing: border-box;top: 0;bottom: 0;left: 50%;z-index: 0;}#sk-container-id-1 div.sk-serial {display: flex;flex-direction: column;align-items: center;background-color: white;padding-right: 0.2em;padding-left: 0.2em;position: relative;}#sk-container-id-1 div.sk-item {position: relative;z-index: 1;}#sk-container-id-1 div.sk-parallel {display: flex;align-items: stretch;justify-content: center;background-color: white;position: relative;}#sk-container-id-1 div.sk-item::before, #sk-container-id-1 div.sk-parallel-item::before {content: \"\";position: absolute;border-left: 1px solid gray;box-sizing: border-box;top: 0;bottom: 0;left: 50%;z-index: -1;}#sk-container-id-1 div.sk-parallel-item {display: flex;flex-direction: column;z-index: 1;position: relative;background-color: white;}#sk-container-id-1 div.sk-parallel-item:first-child::after {align-self: flex-end;width: 50%;}#sk-container-id-1 div.sk-parallel-item:last-child::after {align-self: flex-start;width: 50%;}#sk-container-id-1 div.sk-parallel-item:only-child::after {width: 0;}#sk-container-id-1 div.sk-dashed-wrapped {border: 1px dashed gray;margin: 0 0.4em 0.5em 0.4em;box-sizing: border-box;padding-bottom: 0.4em;background-color: white;}#sk-container-id-1 div.sk-label label {font-family: monospace;font-weight: bold;display: inline-block;line-height: 1.2em;}#sk-container-id-1 div.sk-label-container {text-align: center;}#sk-container-id-1 div.sk-container {/* jupyter's `normalize.less` sets `[hidden] { display: none; }` but bootstrap.min.css set `[hidden] { display: none !important; }` so we also need the `!important` here to be able to override the default hidden behavior on the sphinx rendered scikit-learn.org. See: https://github.com/scikit-learn/scikit-learn/issues/21755 */display: inline-block !important;position: relative;}#sk-container-id-1 div.sk-text-repr-fallback {display: none;}</style><div id=\"sk-container-id-1\" class=\"sk-top-container\"><div class=\"sk-text-repr-fallback\"><pre>OneHotEncoder()</pre><b>In a Jupyter environment, please rerun this cell to show the HTML representation or trust the notebook. <br />On GitHub, the HTML representation is unable to render, please try loading this page with nbviewer.org.</b></div><div class=\"sk-container\" hidden><div class=\"sk-item\"><div class=\"sk-estimator sk-toggleable\"><input class=\"sk-toggleable__control sk-hidden--visually\" id=\"sk-estimator-id-1\" type=\"checkbox\" checked><label for=\"sk-estimator-id-1\" class=\"sk-toggleable__label sk-toggleable__label-arrow\">OneHotEncoder</label><div class=\"sk-toggleable__content\"><pre>OneHotEncoder()</pre></div></div></div></div></div>"
      ],
      "text/plain": [
       "OneHotEncoder()"
      ]
     },
     "execution_count": 17,
     "metadata": {},
     "output_type": "execute_result"
    }
   ],
   "source": [
    "ohe = OneHotEncoder()\n",
    "ohe.fit(x[['model','transmission','fuelType','Manufacturer']])"
   ]
  },
  {
   "cell_type": "code",
   "execution_count": 18,
   "id": "35454511",
   "metadata": {},
   "outputs": [
    {
     "data": {
      "text/plain": [
       "[array([' 1 Series', ' 2 Series', ' 3 Series', ' 4 Series', ' 5 Series',\n",
       "        ' 6 Series', ' 7 Series', ' 8 Series', ' A Class', ' A1', ' A2',\n",
       "        ' A3', ' A4', ' A5', ' A6', ' A7', ' A8', ' Accent', ' Adam',\n",
       "        ' Agila', ' Amarok', ' Amica', ' Ampera', ' Antara', ' Arteon',\n",
       "        ' Astra', ' Auris', ' Avensis', ' Aygo', ' B Class', ' B-MAX',\n",
       "        ' Beetle', ' C Class', ' C-HR', ' C-MAX', ' CC', ' CL Class',\n",
       "        ' CLA Class', ' CLC Class', ' CLK', ' CLS Class', ' Caddy',\n",
       "        ' Caddy Life', ' Caddy Maxi', ' Caddy Maxi Life', ' California',\n",
       "        ' Camry', ' Caravelle', ' Cascada', ' Citigo', ' Combo Life',\n",
       "        ' Corolla', ' Corsa', ' Crossland X', ' E Class', ' EcoSport',\n",
       "        ' Edge', ' Eos', ' Escort', ' Fabia', ' Fiesta', ' Focus', ' Fox',\n",
       "        ' Fusion', ' G Class', ' GL Class', ' GLA Class', ' GLB Class',\n",
       "        ' GLC Class', ' GLE Class', ' GLS Class', ' GT86', ' GTC',\n",
       "        ' Galaxy', ' Getz', ' Golf', ' Golf SV', ' Grand C-MAX',\n",
       "        ' Grand Tourneo Connect', ' Grandland X', ' Hilux', ' I10', ' I20',\n",
       "        ' I30', ' I40', ' I800', ' IQ', ' IX20', ' IX35', ' Insignia',\n",
       "        ' Ioniq', ' Jetta', ' KA', ' Ka+', ' Kadjar', ' Kamiq', ' Karoq',\n",
       "        ' Kodiaq', ' Kona', ' Kuga', ' Land Cruiser', ' M Class', ' M2',\n",
       "        ' M3', ' M4', ' M5', ' M6', ' Meriva', ' Mokka', ' Mokka X',\n",
       "        ' Mondeo', ' Mustang', ' Octavia', ' PROACE VERSO', ' Passat',\n",
       "        ' Polo', ' Prius', ' Puma', ' Q2', ' Q3', ' Q5', ' Q7', ' Q8',\n",
       "        ' R Class', ' R8', ' RAV4', ' RS3', ' RS4', ' RS5', ' RS6', ' RS7',\n",
       "        ' Ranger', ' Rapid', ' Roomster', ' S Class', ' S-MAX', ' S3',\n",
       "        ' S4', ' S5', ' S8', ' SL CLASS', ' SLK', ' SQ5', ' SQ7',\n",
       "        ' Santa Fe', ' Scala', ' Scirocco', ' Sharan', ' Shuttle',\n",
       "        ' Streetka', ' Superb', ' Supra', ' T-Cross', ' T-Roc', ' TT',\n",
       "        ' Terracan', ' Tigra', ' Tiguan', ' Tiguan Allspace', ' Touareg',\n",
       "        ' Touran', ' Tourneo Connect', ' Tourneo Custom',\n",
       "        ' Transit Tourneo', ' Tucson', ' Up', ' Urban Cruiser', ' V Class',\n",
       "        ' Vectra', ' Veloster', ' Verso', ' Verso-S', ' Viva', ' Vivaro',\n",
       "        ' X-CLASS', ' X1', ' X2', ' X3', ' X4', ' X5', ' X6', ' X7',\n",
       "        ' Yaris', ' Yeti', ' Yeti Outdoor', ' Z3', ' Z4', ' Zafira',\n",
       "        ' Zafira Tourer', ' i3', ' i8', '180', '200', '220', '230',\n",
       "        'E Class'], dtype=object),\n",
       " array(['Automatic', 'Manual', 'Other', 'Semi-Auto'], dtype=object),\n",
       " array(['Diesel', 'Electric', 'Hybrid', 'Other', 'Petrol'], dtype=object),\n",
       " array(['Audi', 'BMW', 'ford', 'hyundi', 'merc', 'skoda', 'toyota',\n",
       "        'vauxhall', 'volkswagen'], dtype=object)]"
      ]
     },
     "execution_count": 18,
     "metadata": {},
     "output_type": "execute_result"
    }
   ],
   "source": [
    "ohe.categories_"
   ]
  },
  {
   "cell_type": "code",
   "execution_count": 19,
   "id": "579387d4",
   "metadata": {},
   "outputs": [],
   "source": [
    "column_trans = make_column_transformer((OneHotEncoder(categories=ohe.categories_),['model','transmission','fuelType','Manufacturer']),remainder='passthrough')"
   ]
  },
  {
   "cell_type": "code",
   "execution_count": 20,
   "id": "364e3a76",
   "metadata": {},
   "outputs": [],
   "source": [
    "lr=LinearRegression()"
   ]
  },
  {
   "cell_type": "code",
   "execution_count": 21,
   "id": "e0893d75",
   "metadata": {},
   "outputs": [],
   "source": [
    "pipe = make_pipeline(column_trans,lr)"
   ]
  },
  {
   "cell_type": "code",
   "execution_count": 22,
   "id": "14306042",
   "metadata": {},
   "outputs": [
    {
     "data": {
      "text/html": [
       "<style>#sk-container-id-2 {color: black;}#sk-container-id-2 pre{padding: 0;}#sk-container-id-2 div.sk-toggleable {background-color: white;}#sk-container-id-2 label.sk-toggleable__label {cursor: pointer;display: block;width: 100%;margin-bottom: 0;padding: 0.3em;box-sizing: border-box;text-align: center;}#sk-container-id-2 label.sk-toggleable__label-arrow:before {content: \"▸\";float: left;margin-right: 0.25em;color: #696969;}#sk-container-id-2 label.sk-toggleable__label-arrow:hover:before {color: black;}#sk-container-id-2 div.sk-estimator:hover label.sk-toggleable__label-arrow:before {color: black;}#sk-container-id-2 div.sk-toggleable__content {max-height: 0;max-width: 0;overflow: hidden;text-align: left;background-color: #f0f8ff;}#sk-container-id-2 div.sk-toggleable__content pre {margin: 0.2em;color: black;border-radius: 0.25em;background-color: #f0f8ff;}#sk-container-id-2 input.sk-toggleable__control:checked~div.sk-toggleable__content {max-height: 200px;max-width: 100%;overflow: auto;}#sk-container-id-2 input.sk-toggleable__control:checked~label.sk-toggleable__label-arrow:before {content: \"▾\";}#sk-container-id-2 div.sk-estimator input.sk-toggleable__control:checked~label.sk-toggleable__label {background-color: #d4ebff;}#sk-container-id-2 div.sk-label input.sk-toggleable__control:checked~label.sk-toggleable__label {background-color: #d4ebff;}#sk-container-id-2 input.sk-hidden--visually {border: 0;clip: rect(1px 1px 1px 1px);clip: rect(1px, 1px, 1px, 1px);height: 1px;margin: -1px;overflow: hidden;padding: 0;position: absolute;width: 1px;}#sk-container-id-2 div.sk-estimator {font-family: monospace;background-color: #f0f8ff;border: 1px dotted black;border-radius: 0.25em;box-sizing: border-box;margin-bottom: 0.5em;}#sk-container-id-2 div.sk-estimator:hover {background-color: #d4ebff;}#sk-container-id-2 div.sk-parallel-item::after {content: \"\";width: 100%;border-bottom: 1px solid gray;flex-grow: 1;}#sk-container-id-2 div.sk-label:hover label.sk-toggleable__label {background-color: #d4ebff;}#sk-container-id-2 div.sk-serial::before {content: \"\";position: absolute;border-left: 1px solid gray;box-sizing: border-box;top: 0;bottom: 0;left: 50%;z-index: 0;}#sk-container-id-2 div.sk-serial {display: flex;flex-direction: column;align-items: center;background-color: white;padding-right: 0.2em;padding-left: 0.2em;position: relative;}#sk-container-id-2 div.sk-item {position: relative;z-index: 1;}#sk-container-id-2 div.sk-parallel {display: flex;align-items: stretch;justify-content: center;background-color: white;position: relative;}#sk-container-id-2 div.sk-item::before, #sk-container-id-2 div.sk-parallel-item::before {content: \"\";position: absolute;border-left: 1px solid gray;box-sizing: border-box;top: 0;bottom: 0;left: 50%;z-index: -1;}#sk-container-id-2 div.sk-parallel-item {display: flex;flex-direction: column;z-index: 1;position: relative;background-color: white;}#sk-container-id-2 div.sk-parallel-item:first-child::after {align-self: flex-end;width: 50%;}#sk-container-id-2 div.sk-parallel-item:last-child::after {align-self: flex-start;width: 50%;}#sk-container-id-2 div.sk-parallel-item:only-child::after {width: 0;}#sk-container-id-2 div.sk-dashed-wrapped {border: 1px dashed gray;margin: 0 0.4em 0.5em 0.4em;box-sizing: border-box;padding-bottom: 0.4em;background-color: white;}#sk-container-id-2 div.sk-label label {font-family: monospace;font-weight: bold;display: inline-block;line-height: 1.2em;}#sk-container-id-2 div.sk-label-container {text-align: center;}#sk-container-id-2 div.sk-container {/* jupyter's `normalize.less` sets `[hidden] { display: none; }` but bootstrap.min.css set `[hidden] { display: none !important; }` so we also need the `!important` here to be able to override the default hidden behavior on the sphinx rendered scikit-learn.org. See: https://github.com/scikit-learn/scikit-learn/issues/21755 */display: inline-block !important;position: relative;}#sk-container-id-2 div.sk-text-repr-fallback {display: none;}</style><div id=\"sk-container-id-2\" class=\"sk-top-container\"><div class=\"sk-text-repr-fallback\"><pre>Pipeline(steps=[(&#x27;columntransformer&#x27;,\n",
       "                 ColumnTransformer(remainder=&#x27;passthrough&#x27;,\n",
       "                                   transformers=[(&#x27;onehotencoder&#x27;,\n",
       "                                                  OneHotEncoder(categories=[array([&#x27; 1 Series&#x27;, &#x27; 2 Series&#x27;, &#x27; 3 Series&#x27;, &#x27; 4 Series&#x27;, &#x27; 5 Series&#x27;,\n",
       "       &#x27; 6 Series&#x27;, &#x27; 7 Series&#x27;, &#x27; 8 Series&#x27;, &#x27; A Class&#x27;, &#x27; A1&#x27;, &#x27; A2&#x27;,\n",
       "       &#x27; A3&#x27;, &#x27; A4&#x27;, &#x27; A5&#x27;, &#x27; A6&#x27;, &#x27; A7&#x27;, &#x27; A8&#x27;, &#x27; Accent&#x27;, &#x27; Adam&#x27;,\n",
       "       &#x27; Agila&#x27;, &#x27; Amarok&#x27;, &#x27; Amica&#x27;, &#x27; Ampera&#x27;, &#x27; Antara&#x27;, &#x27; Arteon&#x27;,\n",
       "       &#x27; Astra&#x27;, &#x27; A...\n",
       "       &#x27;E Class&#x27;], dtype=object),\n",
       "                                                                            array([&#x27;Automatic&#x27;, &#x27;Manual&#x27;, &#x27;Other&#x27;, &#x27;Semi-Auto&#x27;], dtype=object),\n",
       "                                                                            array([&#x27;Diesel&#x27;, &#x27;Electric&#x27;, &#x27;Hybrid&#x27;, &#x27;Other&#x27;, &#x27;Petrol&#x27;], dtype=object),\n",
       "                                                                            array([&#x27;Audi&#x27;, &#x27;BMW&#x27;, &#x27;ford&#x27;, &#x27;hyundi&#x27;, &#x27;merc&#x27;, &#x27;skoda&#x27;, &#x27;toyota&#x27;,\n",
       "       &#x27;vauxhall&#x27;, &#x27;volkswagen&#x27;], dtype=object)]),\n",
       "                                                  [&#x27;model&#x27;, &#x27;transmission&#x27;,\n",
       "                                                   &#x27;fuelType&#x27;,\n",
       "                                                   &#x27;Manufacturer&#x27;])])),\n",
       "                (&#x27;linearregression&#x27;, LinearRegression())])</pre><b>In a Jupyter environment, please rerun this cell to show the HTML representation or trust the notebook. <br />On GitHub, the HTML representation is unable to render, please try loading this page with nbviewer.org.</b></div><div class=\"sk-container\" hidden><div class=\"sk-item sk-dashed-wrapped\"><div class=\"sk-label-container\"><div class=\"sk-label sk-toggleable\"><input class=\"sk-toggleable__control sk-hidden--visually\" id=\"sk-estimator-id-2\" type=\"checkbox\" ><label for=\"sk-estimator-id-2\" class=\"sk-toggleable__label sk-toggleable__label-arrow\">Pipeline</label><div class=\"sk-toggleable__content\"><pre>Pipeline(steps=[(&#x27;columntransformer&#x27;,\n",
       "                 ColumnTransformer(remainder=&#x27;passthrough&#x27;,\n",
       "                                   transformers=[(&#x27;onehotencoder&#x27;,\n",
       "                                                  OneHotEncoder(categories=[array([&#x27; 1 Series&#x27;, &#x27; 2 Series&#x27;, &#x27; 3 Series&#x27;, &#x27; 4 Series&#x27;, &#x27; 5 Series&#x27;,\n",
       "       &#x27; 6 Series&#x27;, &#x27; 7 Series&#x27;, &#x27; 8 Series&#x27;, &#x27; A Class&#x27;, &#x27; A1&#x27;, &#x27; A2&#x27;,\n",
       "       &#x27; A3&#x27;, &#x27; A4&#x27;, &#x27; A5&#x27;, &#x27; A6&#x27;, &#x27; A7&#x27;, &#x27; A8&#x27;, &#x27; Accent&#x27;, &#x27; Adam&#x27;,\n",
       "       &#x27; Agila&#x27;, &#x27; Amarok&#x27;, &#x27; Amica&#x27;, &#x27; Ampera&#x27;, &#x27; Antara&#x27;, &#x27; Arteon&#x27;,\n",
       "       &#x27; Astra&#x27;, &#x27; A...\n",
       "       &#x27;E Class&#x27;], dtype=object),\n",
       "                                                                            array([&#x27;Automatic&#x27;, &#x27;Manual&#x27;, &#x27;Other&#x27;, &#x27;Semi-Auto&#x27;], dtype=object),\n",
       "                                                                            array([&#x27;Diesel&#x27;, &#x27;Electric&#x27;, &#x27;Hybrid&#x27;, &#x27;Other&#x27;, &#x27;Petrol&#x27;], dtype=object),\n",
       "                                                                            array([&#x27;Audi&#x27;, &#x27;BMW&#x27;, &#x27;ford&#x27;, &#x27;hyundi&#x27;, &#x27;merc&#x27;, &#x27;skoda&#x27;, &#x27;toyota&#x27;,\n",
       "       &#x27;vauxhall&#x27;, &#x27;volkswagen&#x27;], dtype=object)]),\n",
       "                                                  [&#x27;model&#x27;, &#x27;transmission&#x27;,\n",
       "                                                   &#x27;fuelType&#x27;,\n",
       "                                                   &#x27;Manufacturer&#x27;])])),\n",
       "                (&#x27;linearregression&#x27;, LinearRegression())])</pre></div></div></div><div class=\"sk-serial\"><div class=\"sk-item sk-dashed-wrapped\"><div class=\"sk-label-container\"><div class=\"sk-label sk-toggleable\"><input class=\"sk-toggleable__control sk-hidden--visually\" id=\"sk-estimator-id-3\" type=\"checkbox\" ><label for=\"sk-estimator-id-3\" class=\"sk-toggleable__label sk-toggleable__label-arrow\">columntransformer: ColumnTransformer</label><div class=\"sk-toggleable__content\"><pre>ColumnTransformer(remainder=&#x27;passthrough&#x27;,\n",
       "                  transformers=[(&#x27;onehotencoder&#x27;,\n",
       "                                 OneHotEncoder(categories=[array([&#x27; 1 Series&#x27;, &#x27; 2 Series&#x27;, &#x27; 3 Series&#x27;, &#x27; 4 Series&#x27;, &#x27; 5 Series&#x27;,\n",
       "       &#x27; 6 Series&#x27;, &#x27; 7 Series&#x27;, &#x27; 8 Series&#x27;, &#x27; A Class&#x27;, &#x27; A1&#x27;, &#x27; A2&#x27;,\n",
       "       &#x27; A3&#x27;, &#x27; A4&#x27;, &#x27; A5&#x27;, &#x27; A6&#x27;, &#x27; A7&#x27;, &#x27; A8&#x27;, &#x27; Accent&#x27;, &#x27; Adam&#x27;,\n",
       "       &#x27; Agila&#x27;, &#x27; Amarok&#x27;, &#x27; Amica&#x27;, &#x27; Ampera&#x27;, &#x27; Antara&#x27;, &#x27; Arteon&#x27;,\n",
       "       &#x27; Astra&#x27;, &#x27; Auris&#x27;, &#x27; Avensis&#x27;, &#x27; Aygo&#x27;, &#x27; B Class&#x27;, &#x27; B-MA...\n",
       "       &#x27; Zafira Tourer&#x27;, &#x27; i3&#x27;, &#x27; i8&#x27;, &#x27;180&#x27;, &#x27;200&#x27;, &#x27;220&#x27;, &#x27;230&#x27;,\n",
       "       &#x27;E Class&#x27;], dtype=object),\n",
       "                                                           array([&#x27;Automatic&#x27;, &#x27;Manual&#x27;, &#x27;Other&#x27;, &#x27;Semi-Auto&#x27;], dtype=object),\n",
       "                                                           array([&#x27;Diesel&#x27;, &#x27;Electric&#x27;, &#x27;Hybrid&#x27;, &#x27;Other&#x27;, &#x27;Petrol&#x27;], dtype=object),\n",
       "                                                           array([&#x27;Audi&#x27;, &#x27;BMW&#x27;, &#x27;ford&#x27;, &#x27;hyundi&#x27;, &#x27;merc&#x27;, &#x27;skoda&#x27;, &#x27;toyota&#x27;,\n",
       "       &#x27;vauxhall&#x27;, &#x27;volkswagen&#x27;], dtype=object)]),\n",
       "                                 [&#x27;model&#x27;, &#x27;transmission&#x27;, &#x27;fuelType&#x27;,\n",
       "                                  &#x27;Manufacturer&#x27;])])</pre></div></div></div><div class=\"sk-parallel\"><div class=\"sk-parallel-item\"><div class=\"sk-item\"><div class=\"sk-label-container\"><div class=\"sk-label sk-toggleable\"><input class=\"sk-toggleable__control sk-hidden--visually\" id=\"sk-estimator-id-4\" type=\"checkbox\" ><label for=\"sk-estimator-id-4\" class=\"sk-toggleable__label sk-toggleable__label-arrow\">onehotencoder</label><div class=\"sk-toggleable__content\"><pre>[&#x27;model&#x27;, &#x27;transmission&#x27;, &#x27;fuelType&#x27;, &#x27;Manufacturer&#x27;]</pre></div></div></div><div class=\"sk-serial\"><div class=\"sk-item\"><div class=\"sk-estimator sk-toggleable\"><input class=\"sk-toggleable__control sk-hidden--visually\" id=\"sk-estimator-id-5\" type=\"checkbox\" ><label for=\"sk-estimator-id-5\" class=\"sk-toggleable__label sk-toggleable__label-arrow\">OneHotEncoder</label><div class=\"sk-toggleable__content\"><pre>OneHotEncoder(categories=[array([&#x27; 1 Series&#x27;, &#x27; 2 Series&#x27;, &#x27; 3 Series&#x27;, &#x27; 4 Series&#x27;, &#x27; 5 Series&#x27;,\n",
       "       &#x27; 6 Series&#x27;, &#x27; 7 Series&#x27;, &#x27; 8 Series&#x27;, &#x27; A Class&#x27;, &#x27; A1&#x27;, &#x27; A2&#x27;,\n",
       "       &#x27; A3&#x27;, &#x27; A4&#x27;, &#x27; A5&#x27;, &#x27; A6&#x27;, &#x27; A7&#x27;, &#x27; A8&#x27;, &#x27; Accent&#x27;, &#x27; Adam&#x27;,\n",
       "       &#x27; Agila&#x27;, &#x27; Amarok&#x27;, &#x27; Amica&#x27;, &#x27; Ampera&#x27;, &#x27; Antara&#x27;, &#x27; Arteon&#x27;,\n",
       "       &#x27; Astra&#x27;, &#x27; Auris&#x27;, &#x27; Avensis&#x27;, &#x27; Aygo&#x27;, &#x27; B Class&#x27;, &#x27; B-MAX&#x27;,\n",
       "       &#x27; Beetle&#x27;, &#x27; C Class&#x27;, &#x27; C-HR&#x27;, &#x27; C-MAX&#x27;, &#x27; CC&#x27;, &#x27; CL Class&#x27;,\n",
       "       &#x27; CLA Class&#x27;, &#x27; CLC Class&#x27;,...\n",
       "       &#x27; Yaris&#x27;, &#x27; Yeti&#x27;, &#x27; Yeti Outdoor&#x27;, &#x27; Z3&#x27;, &#x27; Z4&#x27;, &#x27; Zafira&#x27;,\n",
       "       &#x27; Zafira Tourer&#x27;, &#x27; i3&#x27;, &#x27; i8&#x27;, &#x27;180&#x27;, &#x27;200&#x27;, &#x27;220&#x27;, &#x27;230&#x27;,\n",
       "       &#x27;E Class&#x27;], dtype=object),\n",
       "                          array([&#x27;Automatic&#x27;, &#x27;Manual&#x27;, &#x27;Other&#x27;, &#x27;Semi-Auto&#x27;], dtype=object),\n",
       "                          array([&#x27;Diesel&#x27;, &#x27;Electric&#x27;, &#x27;Hybrid&#x27;, &#x27;Other&#x27;, &#x27;Petrol&#x27;], dtype=object),\n",
       "                          array([&#x27;Audi&#x27;, &#x27;BMW&#x27;, &#x27;ford&#x27;, &#x27;hyundi&#x27;, &#x27;merc&#x27;, &#x27;skoda&#x27;, &#x27;toyota&#x27;,\n",
       "       &#x27;vauxhall&#x27;, &#x27;volkswagen&#x27;], dtype=object)])</pre></div></div></div></div></div></div><div class=\"sk-parallel-item\"><div class=\"sk-item\"><div class=\"sk-label-container\"><div class=\"sk-label sk-toggleable\"><input class=\"sk-toggleable__control sk-hidden--visually\" id=\"sk-estimator-id-6\" type=\"checkbox\" ><label for=\"sk-estimator-id-6\" class=\"sk-toggleable__label sk-toggleable__label-arrow\">remainder</label><div class=\"sk-toggleable__content\"><pre>[&#x27;year&#x27;, &#x27;mileage&#x27;, &#x27;mpg&#x27;, &#x27;engineSize&#x27;]</pre></div></div></div><div class=\"sk-serial\"><div class=\"sk-item\"><div class=\"sk-estimator sk-toggleable\"><input class=\"sk-toggleable__control sk-hidden--visually\" id=\"sk-estimator-id-7\" type=\"checkbox\" ><label for=\"sk-estimator-id-7\" class=\"sk-toggleable__label sk-toggleable__label-arrow\">passthrough</label><div class=\"sk-toggleable__content\"><pre>passthrough</pre></div></div></div></div></div></div></div></div><div class=\"sk-item\"><div class=\"sk-estimator sk-toggleable\"><input class=\"sk-toggleable__control sk-hidden--visually\" id=\"sk-estimator-id-8\" type=\"checkbox\" ><label for=\"sk-estimator-id-8\" class=\"sk-toggleable__label sk-toggleable__label-arrow\">LinearRegression</label><div class=\"sk-toggleable__content\"><pre>LinearRegression()</pre></div></div></div></div></div></div></div>"
      ],
      "text/plain": [
       "Pipeline(steps=[('columntransformer',\n",
       "                 ColumnTransformer(remainder='passthrough',\n",
       "                                   transformers=[('onehotencoder',\n",
       "                                                  OneHotEncoder(categories=[array([' 1 Series', ' 2 Series', ' 3 Series', ' 4 Series', ' 5 Series',\n",
       "       ' 6 Series', ' 7 Series', ' 8 Series', ' A Class', ' A1', ' A2',\n",
       "       ' A3', ' A4', ' A5', ' A6', ' A7', ' A8', ' Accent', ' Adam',\n",
       "       ' Agila', ' Amarok', ' Amica', ' Ampera', ' Antara', ' Arteon',\n",
       "       ' Astra', ' A...\n",
       "       'E Class'], dtype=object),\n",
       "                                                                            array(['Automatic', 'Manual', 'Other', 'Semi-Auto'], dtype=object),\n",
       "                                                                            array(['Diesel', 'Electric', 'Hybrid', 'Other', 'Petrol'], dtype=object),\n",
       "                                                                            array(['Audi', 'BMW', 'ford', 'hyundi', 'merc', 'skoda', 'toyota',\n",
       "       'vauxhall', 'volkswagen'], dtype=object)]),\n",
       "                                                  ['model', 'transmission',\n",
       "                                                   'fuelType',\n",
       "                                                   'Manufacturer'])])),\n",
       "                ('linearregression', LinearRegression())])"
      ]
     },
     "execution_count": 22,
     "metadata": {},
     "output_type": "execute_result"
    }
   ],
   "source": [
    "pipe.fit(x_train,y_train)"
   ]
  },
  {
   "cell_type": "code",
   "execution_count": 23,
   "id": "fd643fd1",
   "metadata": {},
   "outputs": [],
   "source": [
    "y_pred=pipe.predict(x_test)"
   ]
  },
  {
   "cell_type": "code",
   "execution_count": 24,
   "id": "4ace3a41",
   "metadata": {},
   "outputs": [
    {
     "data": {
      "text/plain": [
       "array([15322.56878734, 13000.82696764, 26156.51357973, ...,\n",
       "       -2373.74069707, 11872.01523469, 10430.91241118])"
      ]
     },
     "execution_count": 24,
     "metadata": {},
     "output_type": "execute_result"
    }
   ],
   "source": [
    "y_pred"
   ]
  },
  {
   "cell_type": "code",
   "execution_count": 25,
   "id": "61b12fd3",
   "metadata": {},
   "outputs": [
    {
     "name": "stdout",
     "output_type": "stream",
     "text": [
      "<class 'pandas.core.frame.DataFrame'>\n",
      "RangeIndex: 97712 entries, 0 to 97711\n",
      "Data columns (total 10 columns):\n",
      " #   Column        Non-Null Count  Dtype  \n",
      "---  ------        --------------  -----  \n",
      " 0   model         97712 non-null  object \n",
      " 1   year          97712 non-null  int64  \n",
      " 2   price         97712 non-null  int64  \n",
      " 3   transmission  97712 non-null  object \n",
      " 4   mileage       97712 non-null  int64  \n",
      " 5   fuelType      97712 non-null  object \n",
      " 6   tax           97712 non-null  int64  \n",
      " 7   mpg           97712 non-null  float64\n",
      " 8   engineSize    97712 non-null  float64\n",
      " 9   Manufacturer  97712 non-null  object \n",
      "dtypes: float64(2), int64(4), object(4)\n",
      "memory usage: 7.5+ MB\n"
     ]
    }
   ],
   "source": [
    "car.info()"
   ]
  },
  {
   "cell_type": "code",
   "execution_count": 26,
   "id": "46c61600",
   "metadata": {},
   "outputs": [
    {
     "data": {
      "text/plain": [
       "0.7963924576247464"
      ]
     },
     "execution_count": 26,
     "metadata": {},
     "output_type": "execute_result"
    }
   ],
   "source": [
    "r2_score(y_test,y_pred)"
   ]
  },
  {
   "cell_type": "code",
   "execution_count": 27,
   "id": "2d1608db",
   "metadata": {},
   "outputs": [
    {
     "name": "stdout",
     "output_type": "stream",
     "text": [
      "0 0.7852996827974104\n",
      "1 0.7931685310850267\n",
      "2 0.8056888752135356\n",
      "3 0.804116236692187\n",
      "4 0.7932135875263517\n",
      "5 0.7979698404138662\n",
      "6 0.7900347020618068\n",
      "7 0.8054898110897144\n",
      "8 0.8011311432921171\n",
      "9 0.788361385501092\n",
      "10 0.8007493643037524\n",
      "11 0.7864797102914827\n",
      "12 0.7823747987677835\n",
      "13 0.7800999895930496\n",
      "14 0.8088033048782126\n",
      "15 0.7993829521842843\n",
      "16 0.7880979622159233\n",
      "17 0.7995255034467864\n",
      "18 0.8065847010860123\n",
      "19 0.8021313387794111\n",
      "20 0.806359733635633\n",
      "21 0.8034730506731711\n",
      "22 0.7880621635019174\n",
      "23 0.8015576582274472\n",
      "24 0.8012271780534023\n",
      "25 0.7675700032356284\n",
      "26 0.7992639254007496\n",
      "27 0.7999450844608851\n",
      "28 0.7993941716697529\n",
      "29 0.7957233569539549\n",
      "30 0.7939314803068783\n",
      "31 0.7919298348906322\n",
      "32 0.7785078239315735\n",
      "33 0.7781984037612611\n",
      "34 0.7961222108400687\n",
      "35 0.8062285464103183\n",
      "36 0.7998431299912055\n",
      "37 0.7977023407647815\n",
      "38 0.7958292805069376\n",
      "39 0.782162753009286\n",
      "40 0.7797245165677426\n",
      "41 0.7887837567001896\n",
      "42 0.7950266461703719\n",
      "43 0.7934685380408795\n",
      "44 0.7954319136864806\n",
      "45 0.8017090812144647\n",
      "46 0.8044073220606327\n",
      "47 0.7970797125012293\n",
      "48 0.7971355366462382\n",
      "49 0.7898154795037007\n",
      "50 0.7909609551640626\n",
      "51 0.8040534225779303\n",
      "52 0.8030774570340737\n",
      "53 0.7992241908941586\n",
      "54 0.8102018364650838\n",
      "55 0.8000619096436751\n",
      "56 0.7842321719179607\n",
      "57 0.7870283331278041\n",
      "58 0.8005095193493867\n",
      "59 0.7887777263860143\n",
      "60 0.7892578984623945\n",
      "61 0.8027385556788146\n",
      "62 0.800751463281911\n",
      "63 0.7981054754488346\n",
      "64 0.8020578884424202\n",
      "65 0.7889691274985013\n",
      "66 0.7990485664857159\n",
      "67 0.7953971823403723\n",
      "68 0.7895994696757935\n",
      "69 0.7971925940661365\n",
      "70 0.797642451366374\n",
      "71 0.8040155847416295\n",
      "72 0.778280073863702\n",
      "73 0.7927568370675153\n",
      "74 0.8047621830011211\n",
      "75 0.8011198686270342\n",
      "76 0.7810694429982044\n",
      "77 0.7959291231937904\n",
      "78 0.796765476047748\n",
      "79 0.8006180505874527\n",
      "80 0.7960106662635997\n",
      "81 0.808965195527433\n",
      "82 0.8036770655672305\n",
      "83 0.7925101885126482\n",
      "84 0.8050129382023166\n",
      "85 0.8043220915813434\n",
      "86 0.7949012363600432\n",
      "87 0.7878331058070296\n",
      "88 0.790325191964013\n",
      "89 0.7914864088690692\n",
      "90 0.7995849391102314\n",
      "91 0.7928983009885935\n",
      "92 0.7943245643566526\n",
      "93 0.7921962961835293\n",
      "94 0.8045548732957228\n",
      "95 0.7802934781834401\n",
      "96 0.771478958859792\n",
      "97 0.8054883808119601\n",
      "98 0.7875305326009291\n",
      "99 0.7925530833680258\n"
     ]
    }
   ],
   "source": [
    "scores=[]\n",
    "for i in range(100):\n",
    "    x_train,x_test,y_train,y_test=train_test_split(x,y,test_size=0.2,random_state=i)\n",
    "    lr=LinearRegression()\n",
    "    pipe = make_pipeline(column_trans,lr)\n",
    "    pipe.fit(x_train,y_train)\n",
    "    y_pred=pipe.predict(x_test)\n",
    "    scores.append(r2_score(y_test,y_pred))\n",
    "    print(i,r2_score(y_test,y_pred))"
   ]
  },
  {
   "cell_type": "code",
   "execution_count": 28,
   "id": "36d5507f",
   "metadata": {},
   "outputs": [
    {
     "name": "stdout",
     "output_type": "stream",
     "text": [
      "54\n"
     ]
    }
   ],
   "source": [
    "print(np.argmax(scores))"
   ]
  },
  {
   "cell_type": "code",
   "execution_count": 29,
   "id": "3e254698",
   "metadata": {},
   "outputs": [
    {
     "name": "stdout",
     "output_type": "stream",
     "text": [
      "0.8102018364650838\n"
     ]
    }
   ],
   "source": [
    "print(scores[np.argmax(scores)])"
   ]
  },
  {
   "cell_type": "code",
   "execution_count": 30,
   "id": "54752fa2",
   "metadata": {},
   "outputs": [
    {
     "data": {
      "text/plain": [
       "0.8102018364650838"
      ]
     },
     "execution_count": 30,
     "metadata": {},
     "output_type": "execute_result"
    }
   ],
   "source": [
    "x_train_1,x_test_1,y_train_1,y_test_1=train_test_split(x,y,test_size=0.2,random_state=np.argmax(scores))\n",
    "lr=LinearRegression()\n",
    "pipe = make_pipeline(column_trans,lr)\n",
    "pipe.fit(x_train_1,y_train_1)\n",
    "y_pred_1=pipe.predict(x_test_1)\n",
    "r2_score(y_test_1,y_pred_1)"
   ]
  },
  {
   "cell_type": "code",
   "execution_count": 31,
   "id": "b93ad3f2",
   "metadata": {},
   "outputs": [],
   "source": [
    "import pickle\n",
    "pickle.dump(pipe,open('LinearRegressionModelCarPricePred.pkl','wb'))"
   ]
  },
  {
   "cell_type": "code",
   "execution_count": 32,
   "id": "9bb8f6de",
   "metadata": {},
   "outputs": [
    {
     "data": {
      "text/plain": [
       "array([10996.4799609])"
      ]
     },
     "execution_count": 32,
     "metadata": {},
     "output_type": "execute_result"
    }
   ],
   "source": [
    "pipe.predict(pd.DataFrame([[' Polo','volkswagen',2019,'Petrol',55,1.6,97712,'Manual']],columns=['model','Manufacturer','year','fuelType','mpg','engineSize','mileage','transmission']))"
   ]
  },
  {
   "cell_type": "code",
   "execution_count": 33,
   "id": "64dda6d3",
   "metadata": {},
   "outputs": [
    {
     "name": "stdout",
     "output_type": "stream",
     "text": [
      "Mean Squared Error: 20199903.77887567\n"
     ]
    }
   ],
   "source": [
    "# Evaluate the model\n",
    "mse = mean_squared_error(y_test, y_pred)\n",
    "print(f'Mean Squared Error: {mse}')"
   ]
  },
  {
   "cell_type": "code",
   "execution_count": 34,
   "id": "3a1a49d5",
   "metadata": {},
   "outputs": [
    {
     "name": "stdout",
     "output_type": "stream",
     "text": [
      "<class 'pandas.core.frame.DataFrame'>\n",
      "RangeIndex: 97712 entries, 0 to 97711\n",
      "Data columns (total 10 columns):\n",
      " #   Column        Non-Null Count  Dtype  \n",
      "---  ------        --------------  -----  \n",
      " 0   model         97712 non-null  object \n",
      " 1   year          97712 non-null  int64  \n",
      " 2   price         97712 non-null  int64  \n",
      " 3   transmission  97712 non-null  object \n",
      " 4   mileage       97712 non-null  int64  \n",
      " 5   fuelType      97712 non-null  object \n",
      " 6   tax           97712 non-null  int64  \n",
      " 7   mpg           97712 non-null  float64\n",
      " 8   engineSize    97712 non-null  float64\n",
      " 9   Manufacturer  97712 non-null  object \n",
      "dtypes: float64(2), int64(4), object(4)\n",
      "memory usage: 7.5+ MB\n"
     ]
    }
   ],
   "source": [
    "car.info()"
   ]
  },
  {
   "cell_type": "code",
   "execution_count": 35,
   "id": "b0dd19ba",
   "metadata": {},
   "outputs": [],
   "source": [
    "# Recommend cars based on user's budget\n",
    "def recommend_cars(user_budget):\n",
    "    affordable_cars = car[car['price'] <= user_budget]\n",
    "    affordable_cars = affordable_cars.sort_values(by='price',ascending=False)\n",
    "    return affordable_cars.drop(['tax'],axis=1)"
   ]
  },
  {
   "cell_type": "code",
   "execution_count": 36,
   "id": "6a4304f3",
   "metadata": {},
   "outputs": [
    {
     "name": "stdout",
     "output_type": "stream",
     "text": [
      "          model  year  price transmission  mileage fuelType   mpg  engineSize  \\\n",
      "79002    Mondeo  2019  20000       Manual      110   Diesel  65.7         2.0   \n",
      "24668    Passat  2019  20000    Automatic    15595   Petrol  41.5         1.5   \n",
      "5232       Golf  2019  20000       Manual     1000   Diesel  57.7         1.6   \n",
      "60562   E Class  2018  20000    Automatic    28000   Diesel  72.4         2.0   \n",
      "14836      Kuga  2019  20000       Manual     2474   Petrol  39.2         1.5   \n",
      "...         ...   ...    ...          ...      ...      ...   ...         ...   \n",
      "53522     Corsa  2003    590       Manual    82000   Petrol  44.8         1.2   \n",
      "71524     Focus  2003    495       Manual   177644   Petrol  41.5         1.6   \n",
      "28706     Corsa  2002    495       Manual    99842   Petrol  50.4         1.0   \n",
      "35922     Astra  2001    450       Manual   159000   Petrol  40.4         1.6   \n",
      "14428     Agila  2003    450       Manual    90000   Petrol  43.5         1.2   \n",
      "\n",
      "      Manufacturer  \n",
      "79002         ford  \n",
      "24668   volkswagen  \n",
      "5232    volkswagen  \n",
      "60562         merc  \n",
      "14836         ford  \n",
      "...            ...  \n",
      "53522     vauxhall  \n",
      "71524         ford  \n",
      "28706     vauxhall  \n",
      "35922     vauxhall  \n",
      "14428     vauxhall  \n",
      "\n",
      "[71975 rows x 9 columns]\n"
     ]
    }
   ],
   "source": [
    "user_budget = 20000\n",
    "recommended_cars = recommend_cars(user_budget)\n",
    "\n",
    "print(recommended_cars)"
   ]
  },
  {
   "cell_type": "code",
   "execution_count": null,
   "id": "f62ae54f",
   "metadata": {},
   "outputs": [],
   "source": []
  }
 ],
 "metadata": {
  "kernelspec": {
   "display_name": "Python 3 (ipykernel)",
   "language": "python",
   "name": "python3"
  },
  "language_info": {
   "codemirror_mode": {
    "name": "ipython",
    "version": 3
   },
   "file_extension": ".py",
   "mimetype": "text/x-python",
   "name": "python",
   "nbconvert_exporter": "python",
   "pygments_lexer": "ipython3",
   "version": "3.11.5"
  }
 },
 "nbformat": 4,
 "nbformat_minor": 5
}
